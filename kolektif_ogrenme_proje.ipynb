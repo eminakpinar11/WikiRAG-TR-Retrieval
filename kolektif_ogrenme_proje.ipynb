{
 "cells": [
  {
   "metadata": {},
   "cell_type": "markdown",
   "source": "# İlk Besli",
   "id": "7b745034dd61248a"
  },
  {
   "metadata": {
    "ExecuteTime": {
     "end_time": "2024-12-23T08:35:56.796805Z",
     "start_time": "2024-12-23T08:12:23.089393Z"
    }
   },
   "cell_type": "code",
   "source": [
    "from datasets import load_dataset\n",
    "from sentence_transformers import SentenceTransformer\n",
    "import numpy as np\n",
    "import faiss\n",
    "from sklearn.decomposition import PCA\n",
    "from rank_bm25 import BM25Okapi\n",
    "from nltk.tokenize import word_tokenize\n",
    "import nltk\n",
    "from transformers import AutoTokenizer\n",
    "\n",
    "nltk.download('punkt')\n",
    "\n",
    "# Veri kümesini yükle\n",
    "dataset = load_dataset(\"Metin/WikiRAG-TR\")\n",
    "\n",
    "# Chunk ve soru ayrıştırma\n",
    "chunks = []\n",
    "correct_chunk_indices = []\n",
    "questions = []\n",
    "\n",
    "for i, example in enumerate(dataset['train']):\n",
    "    question_chunks = example['context'].split(\"\\n\")\n",
    "    correct_index = example['correct_intro_idx']\n",
    "\n",
    "    if len(question_chunks) == 5:\n",
    "        chunks.extend(question_chunks)\n",
    "        correct_chunk_indices.append(len(questions)*5 + correct_index)\n",
    "        questions.append(example['question'])\n",
    "    elif len(question_chunks) == 6:\n",
    "        if correct_index < 5:\n",
    "            selected_chunks = question_chunks[:5]\n",
    "        else:\n",
    "            selected_chunks = question_chunks[1:]\n",
    "        if question_chunks[correct_index] not in selected_chunks:\n",
    "            selected_chunks[-1] = question_chunks[correct_index]\n",
    "        chunks.extend(selected_chunks)\n",
    "        correct_chunk_indices.append(len(questions)*5 + selected_chunks.index(question_chunks[correct_index]))\n",
    "        questions.append(example['question'])\n",
    "\n",
    "selected_questions = questions[:1000]\n",
    "selected_chunks = chunks[:5000]\n",
    "selected_correct_indices = correct_chunk_indices[:1000]\n",
    "\n",
    "print(f\"Seçilen 1000 soru ve 5000 chunk hazırlandı.\")\n",
    "\n",
    "# Dense Representation Modelleri\n",
    "models = {\n",
    "    \"multilingual_e5\": SentenceTransformer('intfloat/multilingual-e5-base'),\n",
    "    \"bge_m3\": SentenceTransformer('BAAI/bge-m3'),\n",
    "    \"snowflake-l-v2.0\": SentenceTransformer('Snowflake/snowflake-arctic-embed-l-v2.0')\n",
    "}\n",
    "\n",
    "target_dim = 768  # Ortak boyut\n",
    "model_results = {}\n",
    "\n",
    "# --- Dense Modeller ---\n",
    "for model_name, model in models.items():\n",
    "    print(f\"{model_name} için embedding hesaplanıyor...\")\n",
    "    c_emb = model.encode(selected_chunks, convert_to_tensor=False, show_progress_bar=True)\n",
    "    q_emb = model.encode(selected_questions, convert_to_tensor=False, show_progress_bar=True)\n",
    "\n",
    "    # PCA uygulama\n",
    "    pca = PCA(n_components=target_dim)\n",
    "    c_emb = pca.fit_transform(c_emb)\n",
    "    q_emb = pca.transform(q_emb)\n",
    "\n",
    "    # FAISS index\n",
    "    d = c_emb.shape[1]\n",
    "    index = faiss.IndexFlatL2(d)\n",
    "    index.add(c_emb)\n",
    "\n",
    "    # Retrieval\n",
    "    print(f\"{model_name} için retrieval işlemi başlatıldı...\")\n",
    "    distances, retrieved_indices = index.search(np.array(q_emb), k=5)\n",
    "\n",
    "    # Performans Ölçümü\n",
    "    top_1_correct = 0\n",
    "    top_5_correct = 0\n",
    "    for i, indices in enumerate(retrieved_indices):\n",
    "        if selected_correct_indices[i] in indices[:1]:\n",
    "            top_1_correct += 1\n",
    "        if selected_correct_indices[i] in indices:\n",
    "            top_5_correct += 1\n",
    "\n",
    "    model_results[model_name] = {\n",
    "        \"retrieved_indices\": retrieved_indices,\n",
    "        \"top_1_accuracy\": top_1_correct / len(selected_questions),\n",
    "        \"top_5_accuracy\": top_5_correct / len(selected_questions)\n",
    "    }\n",
    "\n",
    "# --- BM25 (normal word tokenization) ---\n",
    "print(\"BM25 (word tokenization) için retrieval işlemi başlatılıyor...\")\n",
    "tokenized_chunks_word = [word_tokenize(chunk.lower()) for chunk in selected_chunks]\n",
    "bm25_word = BM25Okapi(tokenized_chunks_word)\n",
    "\n",
    "bm25_word_all_indices = []\n",
    "top_1_correct = 0\n",
    "top_5_correct = 0\n",
    "for i, question in enumerate(selected_questions):\n",
    "    tokenized_question = word_tokenize(question.lower())\n",
    "    scores = bm25_word.get_scores(tokenized_question)\n",
    "    bm25_indices = np.argsort(scores)[::-1][:5]\n",
    "    bm25_word_all_indices.append(bm25_indices)\n",
    "\n",
    "    if selected_correct_indices[i] in bm25_indices[:1]:\n",
    "        top_1_correct += 1\n",
    "    if selected_correct_indices[i] in bm25_indices:\n",
    "        top_5_correct += 1\n",
    "\n",
    "model_results[\"bm25_word\"] = {\n",
    "    \"retrieved_indices\": np.array(bm25_word_all_indices),\n",
    "    \"top_1_accuracy\": top_1_correct / len(selected_questions),\n",
    "    \"top_5_accuracy\": top_5_correct / len(selected_questions)\n",
    "}\n",
    "\n",
    "# --- BM25 (BERT tokenization) ---\n",
    "print(\"BM25 (BERT tokenization) için retrieval işlemi başlatılıyor...\")\n",
    "\n",
    "# BERT tokenizer ile tokenize et\n",
    "bert_tokenizer = AutoTokenizer.from_pretrained(\"dbmdz/bert-base-turkish-cased\")\n",
    "\n",
    "def bert_tokenize(text):\n",
    "    # tokenizer çıktısındaki 'input_ids'leri alıp tekrar kelime haline getirmek yerine\n",
    "    # doğrudan tokenizer.convert_ids_to_tokens kullandık.\n",
    "    tokens = bert_tokenizer.tokenize(text.lower())\n",
    "    return tokens\n",
    "\n",
    "tokenized_chunks_bert = [bert_tokenize(chunk) for chunk in selected_chunks]\n",
    "bm25_bert = BM25Okapi(tokenized_chunks_bert)\n",
    "\n",
    "bm25_bert_all_indices = []\n",
    "top_1_correct = 0\n",
    "top_5_correct = 0\n",
    "for i, question in enumerate(selected_questions):\n",
    "    tokenized_question_bert = bert_tokenize(question)\n",
    "    scores = bm25_bert.get_scores(tokenized_question_bert)\n",
    "    bm25_indices = np.argsort(scores)[::-1][:5]\n",
    "    bm25_bert_all_indices.append(bm25_indices)\n",
    "\n",
    "    if selected_correct_indices[i] in bm25_indices[:1]:\n",
    "        top_1_correct += 1\n",
    "    if selected_correct_indices[i] in bm25_indices:\n",
    "        top_5_correct += 1\n",
    "\n",
    "model_results[\"bm25_bert\"] = {\n",
    "    \"retrieved_indices\": np.array(bm25_bert_all_indices),\n",
    "    \"top_1_accuracy\": top_1_correct / len(selected_questions),\n",
    "    \"top_5_accuracy\": top_5_correct / len(selected_questions)\n",
    "}\n",
    "\n",
    "# Tekil yöntem sonuçları\n",
    "for model_name, results in model_results.items():\n",
    "    print(f\"{model_name} - Top-1 Accuracy: {results['top_1_accuracy']:.4f}, Top-5 Accuracy: {results['top_5_accuracy']:.4f}\")\n",
    "\n",
    "# Ensemble (Tüm dense'ler + BM25 (word) + BM25 (bert))\n",
    "methods = list(model_results.keys())  # [\"multilingual_e5\", \"bge_m3\", \"snowflake-l-v2.0\", \"bm25_word\", \"bm25_bert\"]\n",
    "\n",
    "top_1_correct = 0\n",
    "top_5_correct = 0\n",
    "\n",
    "for i in range(len(selected_questions)):\n",
    "    chunk_scores = {}\n",
    "    for method in methods:\n",
    "        retrieved_indices = model_results[method][\"retrieved_indices\"][i]\n",
    "        for rank, c_idx in enumerate(retrieved_indices):\n",
    "            score = 5 - rank  # top-1: 5 puan, top-2:4 ... top-5:1\n",
    "            if c_idx not in chunk_scores:\n",
    "                chunk_scores[c_idx] = 0\n",
    "            chunk_scores[c_idx] += score\n",
    "\n",
    "    sorted_chunks = sorted(chunk_scores.items(), key=lambda x: x[1], reverse=True)\n",
    "    top_chunks = [x[0] for x in sorted_chunks[:5]]\n",
    "\n",
    "    if selected_correct_indices[i] in top_chunks[:1]:\n",
    "        top_1_correct += 1\n",
    "    if selected_correct_indices[i] in top_chunks:\n",
    "        top_5_correct += 1\n",
    "\n",
    "ensemble_top_1_acc = top_1_correct / len(selected_questions)\n",
    "ensemble_top_5_acc = top_5_correct / len(selected_questions)\n",
    "\n",
    "print(f\"Ensemble (Tüm 5 temsil) - Top-1 Accuracy: {ensemble_top_1_acc:.4f}, Top-5 Accuracy: {ensemble_top_5_acc:.4f}\")\n"
   ],
   "id": "575f148f0ca0855c",
   "outputs": [
    {
     "name": "stderr",
     "output_type": "stream",
     "text": [
      "[nltk_data] Downloading package punkt to\n",
      "[nltk_data]     C:\\Users\\emina\\AppData\\Roaming\\nltk_data...\n",
      "[nltk_data]   Package punkt is already up-to-date!\n"
     ]
    },
    {
     "name": "stdout",
     "output_type": "stream",
     "text": [
      "Seçilen 1000 soru ve 5000 chunk hazırlandı.\n",
      "multilingual_e5 için embedding hesaplanıyor...\n"
     ]
    },
    {
     "data": {
      "text/plain": [
       "Batches:   0%|          | 0/157 [00:00<?, ?it/s]"
      ],
      "application/vnd.jupyter.widget-view+json": {
       "version_major": 2,
       "version_minor": 0,
       "model_id": "1a1d062af2f74316b8dd33aa2d4c5f68"
      }
     },
     "metadata": {},
     "output_type": "display_data"
    },
    {
     "data": {
      "text/plain": [
       "Batches:   0%|          | 0/32 [00:00<?, ?it/s]"
      ],
      "application/vnd.jupyter.widget-view+json": {
       "version_major": 2,
       "version_minor": 0,
       "model_id": "53d6da6bcf5e4f848b910e90f669dc11"
      }
     },
     "metadata": {},
     "output_type": "display_data"
    },
    {
     "name": "stdout",
     "output_type": "stream",
     "text": [
      "multilingual_e5 için retrieval işlemi başlatıldı...\n",
      "bge_m3 için embedding hesaplanıyor...\n"
     ]
    },
    {
     "data": {
      "text/plain": [
       "Batches:   0%|          | 0/157 [00:00<?, ?it/s]"
      ],
      "application/vnd.jupyter.widget-view+json": {
       "version_major": 2,
       "version_minor": 0,
       "model_id": "8a731615ccec4172984969b2a5278128"
      }
     },
     "metadata": {},
     "output_type": "display_data"
    },
    {
     "data": {
      "text/plain": [
       "Batches:   0%|          | 0/32 [00:00<?, ?it/s]"
      ],
      "application/vnd.jupyter.widget-view+json": {
       "version_major": 2,
       "version_minor": 0,
       "model_id": "1292af92b3a14e719cdc5191389b92b0"
      }
     },
     "metadata": {},
     "output_type": "display_data"
    },
    {
     "name": "stdout",
     "output_type": "stream",
     "text": [
      "bge_m3 için retrieval işlemi başlatıldı...\n",
      "snowflake-l-v2.0 için embedding hesaplanıyor...\n"
     ]
    },
    {
     "data": {
      "text/plain": [
       "Batches:   0%|          | 0/157 [00:00<?, ?it/s]"
      ],
      "application/vnd.jupyter.widget-view+json": {
       "version_major": 2,
       "version_minor": 0,
       "model_id": "8ee5d3dd35a6406ebb0b3b9f30a72a8e"
      }
     },
     "metadata": {},
     "output_type": "display_data"
    },
    {
     "data": {
      "text/plain": [
       "Batches:   0%|          | 0/32 [00:00<?, ?it/s]"
      ],
      "application/vnd.jupyter.widget-view+json": {
       "version_major": 2,
       "version_minor": 0,
       "model_id": "1f68b1fbb074413188fc5ee61096e236"
      }
     },
     "metadata": {},
     "output_type": "display_data"
    },
    {
     "name": "stdout",
     "output_type": "stream",
     "text": [
      "snowflake-l-v2.0 için retrieval işlemi başlatıldı...\n",
      "BM25 (word tokenization) için retrieval işlemi başlatılıyor...\n",
      "BM25 (BERT tokenization) için retrieval işlemi başlatılıyor...\n"
     ]
    },
    {
     "name": "stderr",
     "output_type": "stream",
     "text": [
      "Token indices sequence length is longer than the specified maximum sequence length for this model (523 > 512). Running this sequence through the model will result in indexing errors\n"
     ]
    },
    {
     "name": "stdout",
     "output_type": "stream",
     "text": [
      "multilingual_e5 - Top-1 Accuracy: 0.3310, Top-5 Accuracy: 0.5330\n",
      "bge_m3 - Top-1 Accuracy: 0.3350, Top-5 Accuracy: 0.5330\n",
      "snowflake-l-v2.0 - Top-1 Accuracy: 0.3170, Top-5 Accuracy: 0.5290\n",
      "bm25_word - Top-1 Accuracy: 0.2220, Top-5 Accuracy: 0.4010\n",
      "bm25_bert - Top-1 Accuracy: 0.2930, Top-5 Accuracy: 0.4970\n",
      "Ensemble (Tüm 5 temsil) - Top-1 Accuracy: 0.3260, Top-5 Accuracy: 0.5320\n"
     ]
    }
   ],
   "execution_count": 1
  },
  {
   "metadata": {
    "ExecuteTime": {
     "end_time": "2024-12-23T10:03:35.370896Z",
     "start_time": "2024-12-23T10:03:34.420861Z"
    }
   },
   "cell_type": "code",
   "source": [
    "import matplotlib.pyplot as plt\n",
    "\n",
    "# Top-1 ve Top-5 doğrulukları\n",
    "models = list(model_results.keys())\n",
    "top_1_accuracies = [model_results[model][\"top_1_accuracy\"] for model in models]\n",
    "top_5_accuracies = [model_results[model][\"top_5_accuracy\"] for model in models]\n",
    "\n",
    "# Çubuk grafik\n",
    "x = range(len(models))\n",
    "plt.bar(x, top_1_accuracies, width=0.4, label=\"Top-1 Accuracy\", align='center')\n",
    "plt.bar(x, top_5_accuracies, width=0.4, label=\"Top-5 Accuracy\", align='edge')\n",
    "plt.xticks(x, models, rotation=45)\n",
    "plt.ylabel(\"Accuracy\")\n",
    "plt.title(\"Top-1 and Top-5 Accuracy Comparison\")\n",
    "plt.legend()\n",
    "plt.show()\n"
   ],
   "id": "3ef5b31621867a6f",
   "outputs": [
    {
     "data": {
      "text/plain": [
       "<Figure size 640x480 with 1 Axes>"
      ],
      "image/png": "[encoded data removed]"
     },
     "metadata": {},
     "output_type": "display_data"
    }
   ],
   "execution_count": 3
  },
  {
   "metadata": {
    "ExecuteTime": {
     "end_time": "2024-12-23T10:04:08.415611Z",
     "start_time": "2024-12-23T10:04:08.285758Z"
    }
   },
   "cell_type": "code",
   "source": [
    "for model_name, results in model_results.items():\n",
    "    correct_ranks = []\n",
    "    for i, indices in enumerate(results[\"retrieved_indices\"]):\n",
    "        rank = np.where(indices == selected_correct_indices[i])[0]\n",
    "        correct_ranks.append(rank[0] + 1 if len(rank) > 0 else len(indices) + 1)\n",
    "    \n",
    "    plt.hist(correct_ranks, bins=range(1, 7), alpha=0.6, label=model_name)\n",
    "\n",
    "plt.xlabel(\"Correct Chunk Rank\")\n",
    "plt.ylabel(\"Frequency\")\n",
    "plt.title(\"Distribution of Correct Chunk Ranks\")\n",
    "plt.legend()\n",
    "plt.show()\n"
   ],
   "id": "dde2b0f58f15e37a",
   "outputs": [
    {
     "data": {
      "text/plain": [
       "<Figure size 640x480 with 1 Axes>"
      ],
      "image/png": "[encoded data removed]"
     },
     "metadata": {},
     "output_type": "display_data"
    }
   ],
   "execution_count": 4
  },
  {
   "metadata": {},
   "cell_type": "markdown",
   "source": "# İkinci Besli",
   "id": "8f4aad7ab5635ce7"
  },
  {
   "metadata": {
    "ExecuteTime": {
     "end_time": "2024-12-23T11:20:20.849015Z",
     "start_time": "2024-12-23T10:35:06.768919Z"
    }
   },
   "cell_type": "code",
   "source": [
    "from datasets import load_dataset\n",
    "from sentence_transformers import SentenceTransformer\n",
    "import numpy as np\n",
    "import faiss\n",
    "from sklearn.decomposition import PCA\n",
    "from sklearn.feature_extraction.text import TfidfVectorizer\n",
    "from nltk.tokenize import word_tokenize\n",
    "import nltk\n",
    "from transformers import AutoTokenizer\n",
    "\n",
    "nltk.download('punkt')\n",
    "\n",
    "# Veri kümesini yükle\n",
    "dataset = load_dataset(\"Metin/WikiRAG-TR\")\n",
    "\n",
    "# Chunk ve soru ayrıştırma\n",
    "chunks = []\n",
    "correct_chunk_indices = []\n",
    "questions = []\n",
    "\n",
    "for i, example in enumerate(dataset['train']):\n",
    "    question_chunks = example['context'].split(\"\\n\")\n",
    "    correct_index = example['correct_intro_idx']\n",
    "\n",
    "    if len(question_chunks) == 5:\n",
    "        chunks.extend(question_chunks)\n",
    "        correct_chunk_indices.append(len(questions)*5 + correct_index)\n",
    "        questions.append(example['question'])\n",
    "    elif len(question_chunks) == 6:\n",
    "        if correct_index < 5:\n",
    "            selected_chunks = question_chunks[:5]\n",
    "        else:\n",
    "            selected_chunks = question_chunks[1:]\n",
    "        if question_chunks[correct_index] not in selected_chunks:\n",
    "            selected_chunks[-1] = question_chunks[correct_index]\n",
    "        chunks.extend(selected_chunks)\n",
    "        correct_chunk_indices.append(len(questions)*5 + selected_chunks.index(question_chunks[correct_index]))\n",
    "        questions.append(example['question'])\n",
    "\n",
    "selected_questions = questions[:1000]\n",
    "selected_chunks = chunks[:5000]\n",
    "selected_correct_indices = correct_chunk_indices[:1000]\n",
    "\n",
    "print(f\"Seçilen 1000 soru ve 5000 chunk hazırlandı.\")\n",
    "\n",
    "# Dense Representation Modelleri\n",
    "models = {\n",
    "    \"e5_large\": SentenceTransformer('intfloat/e5-large-v2'),    \n",
    "    \"LaBSE\": SentenceTransformer('sentence-transformers/LaBSE'),\n",
    "    \"instructor\": SentenceTransformer('hkunlp/instructor-large')\n",
    "}\n",
    "\n",
    "target_dim = 768  # Ortak boyut\n",
    "model_results = {}\n",
    "\n",
    "# --- Dense Modeller ---\n",
    "for model_name, model in models.items():\n",
    "    print(f\"{model_name} için embedding hesaplanıyor...\")\n",
    "    c_emb = model.encode(selected_chunks, convert_to_tensor=False, show_progress_bar=True)\n",
    "    q_emb = model.encode(selected_questions, convert_to_tensor=False, show_progress_bar=True)\n",
    "\n",
    "    # PCA uygulama\n",
    "    pca = PCA(n_components=target_dim)\n",
    "    c_emb = pca.fit_transform(c_emb)\n",
    "    q_emb = pca.transform(q_emb)\n",
    "\n",
    "    # FAISS index\n",
    "    d = c_emb.shape[1]\n",
    "    index = faiss.IndexFlatL2(d)\n",
    "    index.add(c_emb)\n",
    "\n",
    "    # Retrieval\n",
    "    print(f\"{model_name} için retrieval işlemi başlatıldı...\")\n",
    "    distances, retrieved_indices = index.search(np.array(q_emb), k=5)\n",
    "\n",
    "    # Performans Ölçümü\n",
    "    top_1_correct = 0\n",
    "    top_5_correct = 0\n",
    "    for i, indices in enumerate(retrieved_indices):\n",
    "        if selected_correct_indices[i] in indices[:1]:\n",
    "            top_1_correct += 1\n",
    "        if selected_correct_indices[i] in indices:\n",
    "            top_5_correct += 1\n",
    "\n",
    "    model_results[model_name] = {\n",
    "        \"retrieved_indices\": retrieved_indices,\n",
    "        \"top_1_accuracy\": top_1_correct / len(selected_questions),\n",
    "        \"top_5_accuracy\": top_5_correct / len(selected_questions)\n",
    "    }\n",
    "\n",
    "# --- TF-IDF (normal word tokenization) ---\n",
    "print(\"TF-IDF (word tokenization) için retrieval işlemi başlatılıyor...\")\n",
    "vectorizer = TfidfVectorizer()\n",
    "tfidf_matrix = vectorizer.fit_transform(selected_chunks)\n",
    "\n",
    "tfidf_all_indices = []\n",
    "top_1_correct = 0\n",
    "top_5_correct = 0\n",
    "for i, question in enumerate(selected_questions):\n",
    "    query_vector = vectorizer.transform([question])\n",
    "    scores = np.dot(tfidf_matrix, query_vector.T).toarray().flatten()\n",
    "    tfidf_indices = np.argsort(scores)[::-1][:5]\n",
    "    tfidf_all_indices.append(tfidf_indices)\n",
    "\n",
    "    if selected_correct_indices[i] in tfidf_indices[:1]:\n",
    "        top_1_correct += 1\n",
    "    if selected_correct_indices[i] in tfidf_indices:\n",
    "        top_5_correct += 1\n",
    "\n",
    "model_results[\"tfidf_word\"] = {\n",
    "    \"retrieved_indices\": np.array(tfidf_all_indices),\n",
    "    \"top_1_accuracy\": top_1_correct / len(selected_questions),\n",
    "    \"top_5_accuracy\": top_5_correct / len(selected_questions)\n",
    "}\n",
    "\n",
    "# --- TF-IDF (BERT tokenization) ---\n",
    "print(\"TF-IDF (BERT tokenization) için retrieval işlemi başlatılıyor...\")\n",
    "\n",
    "# BERT tokenizer ile tokenize et\n",
    "bert_tokenizer = AutoTokenizer.from_pretrained(\"dbmdz/bert-base-turkish-cased\")\n",
    "\n",
    "def bert_tokenize(text):\n",
    "    tokens = bert_tokenizer.tokenize(text.lower())\n",
    "    return \" \".join(tokens)\n",
    "\n",
    "tokenized_chunks_bert = [bert_tokenize(chunk) for chunk in selected_chunks]\n",
    "vectorizer_bert = TfidfVectorizer()\n",
    "tfidf_matrix_bert = vectorizer_bert.fit_transform(tokenized_chunks_bert)\n",
    "\n",
    "bert_tfidf_all_indices = []\n",
    "top_1_correct = 0\n",
    "top_5_correct = 0\n",
    "for i, question in enumerate(selected_questions):\n",
    "    tokenized_question_bert = bert_tokenize(question)\n",
    "    query_vector_bert = vectorizer_bert.transform([tokenized_question_bert])\n",
    "    scores = np.dot(tfidf_matrix_bert, query_vector_bert.T).toarray().flatten()\n",
    "    tfidf_indices = np.argsort(scores)[::-1][:5]\n",
    "    bert_tfidf_all_indices.append(tfidf_indices)\n",
    "\n",
    "    if selected_correct_indices[i] in tfidf_indices[:1]:\n",
    "        top_1_correct += 1\n",
    "    if selected_correct_indices[i] in tfidf_indices:\n",
    "        top_5_correct += 1\n",
    "\n",
    "model_results[\"tfidf_bert\"] = {\n",
    "    \"retrieved_indices\": np.array(bert_tfidf_all_indices),\n",
    "    \"top_1_accuracy\": top_1_correct / len(selected_questions),\n",
    "    \"top_5_accuracy\": top_5_correct / len(selected_questions)\n",
    "}\n",
    "\n",
    "# Tekil yöntem sonuçları\n",
    "for model_name, results in model_results.items():\n",
    "    print(f\"{model_name} - Top-1 Accuracy: {results['top_1_accuracy']:.4f}, Top-5 Accuracy: {results['top_5_accuracy']:.4f}\")\n",
    "\n",
    "# Ensemble (Tüm dense'ler + TF-IDF (word) + TF-IDF (bert))\n",
    "methods = list(model_results.keys())  # [\"e5_large\", \"LaBSE\", \"instructor-large\",\"tfidf_word\", \"tfidf_bert\"]\n",
    "\n",
    "top_1_correct = 0\n",
    "top_5_correct = 0\n",
    "\n",
    "for i in range(len(selected_questions)):\n",
    "    chunk_scores = {}\n",
    "    for method in methods:\n",
    "        retrieved_indices = model_results[method][\"retrieved_indices\"][i]\n",
    "        for rank, c_idx in enumerate(retrieved_indices):\n",
    "            score = 5 - rank  # top-1: 5 puan, top-2:4 ... top-5:1\n",
    "            if c_idx not in chunk_scores:\n",
    "                chunk_scores[c_idx] = 0\n",
    "            chunk_scores[c_idx] += score\n",
    "\n",
    "    sorted_chunks = sorted(chunk_scores.items(), key=lambda x: x[1], reverse=True)\n",
    "    top_chunks = [x[0] for x in sorted_chunks[:5]]\n",
    "\n",
    "    if selected_correct_indices[i] in top_chunks[:1]:\n",
    "        top_1_correct += 1\n",
    "    if selected_correct_indices[i] in top_chunks:\n",
    "        top_5_correct += 1\n",
    "\n",
    "ensemble_top_1_acc = top_1_correct / len(selected_questions)\n",
    "ensemble_top_5_acc = top_5_correct / len(selected_questions)\n",
    "\n",
    "print(f\"Ensemble (Tüm 5 temsil) - Top-1 Accuracy: {ensemble_top_1_acc:.4f}, Top-5 Accuracy: {ensemble_top_5_acc:.4f}\")\n"
   ],
   "id": "7aacdd0b4ce2d2f1",
   "outputs": [
    {
     "name": "stderr",
     "output_type": "stream",
     "text": [
      "[nltk_data] Downloading package punkt to\n",
      "[nltk_data]     C:\\Users\\emina\\AppData\\Roaming\\nltk_data...\n",
      "[nltk_data]   Package punkt is already up-to-date!\n"
     ]
    },
    {
     "name": "stdout",
     "output_type": "stream",
     "text": [
      "Seçilen 1000 soru ve 5000 chunk hazırlandı.\n",
      "e5_large için embedding hesaplanıyor...\n"
     ]
    },
    {
     "data": {
      "text/plain": [
       "Batches:   0%|          | 0/157 [00:00<?, ?it/s]"
      ],
      "application/vnd.jupyter.widget-view+json": {
       "version_major": 2,
       "version_minor": 0,
       "model_id": "b8d3f0516d9f4a0abc75aca18b477937"
      }
     },
     "metadata": {},
     "output_type": "display_data"
    },
    {
     "data": {
      "text/plain": [
       "Batches:   0%|          | 0/32 [00:00<?, ?it/s]"
      ],
      "application/vnd.jupyter.widget-view+json": {
       "version_major": 2,
       "version_minor": 0,
       "model_id": "fba66195a3ab4e65839d4d88d34ffb4c"
      }
     },
     "metadata": {},
     "output_type": "display_data"
    },
    {
     "name": "stdout",
     "output_type": "stream",
     "text": [
      "e5_large için retrieval işlemi başlatıldı...\n",
      "LaBSE için embedding hesaplanıyor...\n"
     ]
    },
    {
     "data": {
      "text/plain": [
       "Batches:   0%|          | 0/157 [00:00<?, ?it/s]"
      ],
      "application/vnd.jupyter.widget-view+json": {
       "version_major": 2,
       "version_minor": 0,
       "model_id": "b9689129ef884125bed1ad0a55b35210"
      }
     },
     "metadata": {},
     "output_type": "display_data"
    },
    {
     "data": {
      "text/plain": [
       "Batches:   0%|          | 0/32 [00:00<?, ?it/s]"
      ],
      "application/vnd.jupyter.widget-view+json": {
       "version_major": 2,
       "version_minor": 0,
       "model_id": "c534f42fdf164aa1a96a834231d61ef1"
      }
     },
     "metadata": {},
     "output_type": "display_data"
    },
    {
     "name": "stdout",
     "output_type": "stream",
     "text": [
      "LaBSE için retrieval işlemi başlatıldı...\n",
      "instructor için embedding hesaplanıyor...\n"
     ]
    },
    {
     "data": {
      "text/plain": [
       "Batches:   0%|          | 0/157 [00:00<?, ?it/s]"
      ],
      "application/vnd.jupyter.widget-view+json": {
       "version_major": 2,
       "version_minor": 0,
       "model_id": "4325aaa3c24042098da1bbe4ea8d646c"
      }
     },
     "metadata": {},
     "output_type": "display_data"
    },
    {
     "data": {
      "text/plain": [
       "Batches:   0%|          | 0/32 [00:00<?, ?it/s]"
      ],
      "application/vnd.jupyter.widget-view+json": {
       "version_major": 2,
       "version_minor": 0,
       "model_id": "1f50f199a124471a8406d7fdd09eebb8"
      }
     },
     "metadata": {},
     "output_type": "display_data"
    },
    {
     "name": "stdout",
     "output_type": "stream",
     "text": [
      "instructor için retrieval işlemi başlatıldı...\n",
      "TF-IDF (word tokenization) için retrieval işlemi başlatılıyor...\n",
      "TF-IDF (BERT tokenization) için retrieval işlemi başlatılıyor...\n"
     ]
    },
    {
     "name": "stderr",
     "output_type": "stream",
     "text": [
      "Token indices sequence length is longer than the specified maximum sequence length for this model (523 > 512). Running this sequence through the model will result in indexing errors\n"
     ]
    },
    {
     "name": "stdout",
     "output_type": "stream",
     "text": [
      "e5_large - Top-1 Accuracy: 0.2620, Top-5 Accuracy: 0.4540\n",
      "LaBSE - Top-1 Accuracy: 0.2460, Top-5 Accuracy: 0.4150\n",
      "instructor - Top-1 Accuracy: 0.2290, Top-5 Accuracy: 0.3880\n",
      "tfidf_word - Top-1 Accuracy: 0.2860, Top-5 Accuracy: 0.4590\n",
      "tfidf_bert - Top-1 Accuracy: 0.2710, Top-5 Accuracy: 0.4740\n",
      "Ensemble (Tüm 5 temsil) - Top-1 Accuracy: 0.3170, Top-5 Accuracy: 0.5100\n"
     ]
    }
   ],
   "execution_count": 9
  },
  {
   "metadata": {
    "ExecuteTime": {
     "end_time": "2024-12-23T11:24:44.485367Z",
     "start_time": "2024-12-23T11:24:44.402212Z"
    }
   },
   "cell_type": "code",
   "source": [
    "import matplotlib.pyplot as plt\n",
    "\n",
    "# Top-1 ve Top-5 doğrulukları\n",
    "models = list(model_results.keys())\n",
    "top_1_accuracies = [model_results[model][\"top_1_accuracy\"] for model in models]\n",
    "top_5_accuracies = [model_results[model][\"top_5_accuracy\"] for model in models]\n",
    "\n",
    "# Çubuk grafik\n",
    "x = range(len(models))\n",
    "plt.bar(x, top_1_accuracies, width=0.4, label=\"Top-1 Accuracy\", align='center')\n",
    "plt.bar(x, top_5_accuracies, width=0.4, label=\"Top-5 Accuracy\", align='edge')\n",
    "plt.xticks(x, models, rotation=45)\n",
    "plt.ylabel(\"Accuracy\")\n",
    "plt.title(\"Top-1 and Top-5 Accuracy Comparison\")\n",
    "plt.legend()\n",
    "plt.show()\n"
   ],
   "id": "c118577e72400257",
   "outputs": [
    {
     "data": {
      "text/plain": [
       "<Figure size 640x480 with 1 Axes>"
      ],
      "image/png": "[encoded data removed]"
     },
     "metadata": {},
     "output_type": "display_data"
    }
   ],
   "execution_count": 10
  },
  {
   "metadata": {
    "ExecuteTime": {
     "end_time": "2024-12-23T11:24:46.281948Z",
     "start_time": "2024-12-23T11:24:46.127596Z"
    }
   },
   "cell_type": "code",
   "source": [
    "for model_name, results in model_results.items():\n",
    "    correct_ranks = []\n",
    "    for i, indices in enumerate(results[\"retrieved_indices\"]):\n",
    "        rank = np.where(indices == selected_correct_indices[i])[0]\n",
    "        correct_ranks.append(rank[0] + 1 if len(rank) > 0 else len(indices) + 1)\n",
    "    \n",
    "    plt.hist(correct_ranks, bins=range(1, 7), alpha=0.6, label=model_name)\n",
    "\n",
    "plt.xlabel(\"Correct Chunk Rank\")\n",
    "plt.ylabel(\"Frequency\")\n",
    "plt.title(\"Distribution of Correct Chunk Ranks\")\n",
    "plt.legend()\n",
    "plt.show()\n"
   ],
   "id": "93f1fb8b584395e8",
   "outputs": [
    {
     "data": {
      "text/plain": [
       "<Figure size 640x480 with 1 Axes>"
      ],
      "image/png": "[encoded data removed]"
     },
     "metadata": {},
     "output_type": "display_data"
    }
   ],
   "execution_count": 11
  },
  {
   "metadata": {},
   "cell_type": "markdown",
   "source": "# Ucuncu Besli",
   "id": "6a1f45591e62a5ec"
  },
  {
   "metadata": {
    "ExecuteTime": {
     "end_time": "2024-12-23T12:19:33.623464Z",
     "start_time": "2024-12-23T11:27:42.759043Z"
    }
   },
   "cell_type": "code",
   "source": [
    "from datasets import load_dataset\n",
    "from sentence_transformers import SentenceTransformer\n",
    "import numpy as np\n",
    "import faiss\n",
    "from sklearn.decomposition import PCA\n",
    "from nltk.tokenize import word_tokenize\n",
    "import nltk\n",
    "from transformers import AutoTokenizer\n",
    "\n",
    "nltk.download('punkt')\n",
    "\n",
    "# Veri kümesini yükle\n",
    "dataset = load_dataset(\"Metin/WikiRAG-TR\")\n",
    "\n",
    "# Chunk ve soru ayrıştırma\n",
    "chunks = []\n",
    "correct_chunk_indices = []\n",
    "questions = []\n",
    "\n",
    "for i, example in enumerate(dataset['train']):\n",
    "    question_chunks = example['context'].split(\"\\n\")\n",
    "    correct_index = example['correct_intro_idx']\n",
    "\n",
    "    if len(question_chunks) == 5:\n",
    "        chunks.extend(question_chunks)\n",
    "        correct_chunk_indices.append(len(questions)*5 + correct_index)\n",
    "        questions.append(example['question'])\n",
    "    elif len(question_chunks) == 6:\n",
    "        if correct_index < 5:\n",
    "            selected_chunks = question_chunks[:5]\n",
    "        else:\n",
    "            selected_chunks = question_chunks[1:]\n",
    "        if question_chunks[correct_index] not in selected_chunks:\n",
    "            selected_chunks[-1] = question_chunks[correct_index]\n",
    "        chunks.extend(selected_chunks)\n",
    "        correct_chunk_indices.append(len(questions)*5 + selected_chunks.index(question_chunks[correct_index]))\n",
    "        questions.append(example['question'])\n",
    "\n",
    "selected_questions = questions[:1000]\n",
    "selected_chunks = chunks[:5000]\n",
    "selected_correct_indices = correct_chunk_indices[:1000]\n",
    "\n",
    "print(f\"Seçilen 1000 soru ve 5000 chunk hazırlandı.\")\n",
    "\n",
    "# Dense Representation Modelleri\n",
    "models = {\n",
    "    \"roberta\": SentenceTransformer('sentence-transformers/all-roberta-large-v1'),\n",
    "    \"jina\": SentenceTransformer('Thaweewat/jina-embedding-v3-m2v-1024'),\n",
    "    \"turkish_bert\": SentenceTransformer('dbmdz/bert-base-turkish-cased')\n",
    "}\n",
    "\n",
    "target_dim = 768  # Ortak boyut\n",
    "model_results = {}\n",
    "\n",
    "# --- Dense Modeller ---\n",
    "for model_name, model in models.items():\n",
    "    print(f\"{model_name} için embedding hesaplanıyor...\")\n",
    "    c_emb = model.encode(selected_chunks, convert_to_tensor=False, show_progress_bar=True)\n",
    "    q_emb = model.encode(selected_questions, convert_to_tensor=False, show_progress_bar=True)\n",
    "\n",
    "    # PCA uygulama\n",
    "    pca = PCA(n_components=target_dim)\n",
    "    c_emb = pca.fit_transform(c_emb)\n",
    "    q_emb = pca.transform(q_emb)\n",
    "\n",
    "    # FAISS index\n",
    "    d = c_emb.shape[1]\n",
    "    index = faiss.IndexFlatL2(d)\n",
    "    index.add(c_emb)\n",
    "\n",
    "    # Retrieval\n",
    "    print(f\"{model_name} için retrieval işlemi başlatıldı...\")\n",
    "    distances, retrieved_indices = index.search(np.array(q_emb), k=5)\n",
    "\n",
    "    # Performans Ölçümü\n",
    "    top_1_correct = 0\n",
    "    top_5_correct = 0\n",
    "    for i, indices in enumerate(retrieved_indices):\n",
    "        if selected_correct_indices[i] in indices[:1]:\n",
    "            top_1_correct += 1\n",
    "        if selected_correct_indices[i] in indices:\n",
    "            top_5_correct += 1\n",
    "\n",
    "    model_results[model_name] = {\n",
    "        \"retrieved_indices\": retrieved_indices,\n",
    "        \"top_1_accuracy\": top_1_correct / len(selected_questions),\n",
    "        \"top_5_accuracy\": top_5_correct / len(selected_questions)\n",
    "    }\n",
    "\n",
    "# --- Jaccard Similarity (normal word tokenization) ---\n",
    "print(\"Jaccard Similarity (word tokenization) için retrieval işlemi başlatılıyor...\")\n",
    "\n",
    "def jaccard_similarity(set1, set2):\n",
    "    return len(set1 & set2) / len(set1 | set2)\n",
    "\n",
    "jaccard_all_indices_word = []\n",
    "top_1_correct = 0\n",
    "top_5_correct = 0\n",
    "for i, question in enumerate(selected_questions):\n",
    "    tokenized_question = set(word_tokenize(question.lower()))\n",
    "    scores = []\n",
    "    for chunk in selected_chunks:\n",
    "        tokenized_chunk = set(word_tokenize(chunk.lower()))\n",
    "        scores.append(jaccard_similarity(tokenized_question, tokenized_chunk))\n",
    "    jaccard_indices = np.argsort(scores)[::-1][:5]\n",
    "    jaccard_all_indices_word.append(jaccard_indices)\n",
    "\n",
    "    if selected_correct_indices[i] in jaccard_indices[:1]:\n",
    "        top_1_correct += 1\n",
    "    if selected_correct_indices[i] in jaccard_indices:\n",
    "        top_5_correct += 1\n",
    "\n",
    "model_results[\"jaccard_word\"] = {\n",
    "    \"retrieved_indices\": np.array(jaccard_all_indices_word),\n",
    "    \"top_1_accuracy\": top_1_correct / len(selected_questions),\n",
    "    \"top_5_accuracy\": top_5_correct / len(selected_questions)\n",
    "}\n",
    "\n",
    "# --- Jaccard Similarity (BERT tokenization) ---\n",
    "print(\"Jaccard Similarity (BERT tokenization) için retrieval işlemi başlatılıyor...\")\n",
    "\n",
    "# BERT tokenizer ile tokenize et\n",
    "bert_tokenizer = AutoTokenizer.from_pretrained(\"dbmdz/bert-base-turkish-cased\")\n",
    "\n",
    "def bert_tokenize(text):\n",
    "    tokens = set(bert_tokenizer.tokenize(text.lower()))\n",
    "    return tokens\n",
    "\n",
    "jaccard_all_indices_bert = []\n",
    "top_1_correct = 0\n",
    "top_5_correct = 0\n",
    "for i, question in enumerate(selected_questions):\n",
    "    tokenized_question_bert = bert_tokenize(question)\n",
    "    scores = []\n",
    "    for chunk in selected_chunks:\n",
    "        tokenized_chunk_bert = bert_tokenize(chunk)\n",
    "        scores.append(jaccard_similarity(tokenized_question_bert, tokenized_chunk_bert))\n",
    "    jaccard_indices = np.argsort(scores)[::-1][:5]\n",
    "    jaccard_all_indices_bert.append(jaccard_indices)\n",
    "\n",
    "    if selected_correct_indices[i] in jaccard_indices[:1]:\n",
    "        top_1_correct += 1\n",
    "    if selected_correct_indices[i] in jaccard_indices:\n",
    "        top_5_correct += 1\n",
    "\n",
    "model_results[\"jaccard_bert\"] = {\n",
    "    \"retrieved_indices\": np.array(jaccard_all_indices_bert),\n",
    "    \"top_1_accuracy\": top_1_correct / len(selected_questions),\n",
    "    \"top_5_accuracy\": top_5_correct / len(selected_questions)\n",
    "}\n",
    "\n",
    "# Tekil yöntem sonuçları\n",
    "for model_name, results in model_results.items():\n",
    "    print(f\"{model_name} - Top-1 Accuracy: {results['top_1_accuracy']:.4f}, Top-5 Accuracy: {results['top_5_accuracy']:.4f}\")\n",
    "\n",
    "# Ensemble (Tüm dense'ler + Jaccard (word) + Jaccard (bert))\n",
    "methods = list(model_results.keys())  # [\"roberta\", \"jina\", \"turkish_bert\",\"jaccard_word\", \"jaccard_bert\"]\n",
    "\n",
    "top_1_correct = 0\n",
    "top_5_correct = 0\n",
    "\n",
    "for i in range(len(selected_questions)):\n",
    "    chunk_scores = {}\n",
    "    for method in methods:\n",
    "        retrieved_indices = model_results[method][\"retrieved_indices\"][i]\n",
    "        for rank, c_idx in enumerate(retrieved_indices):\n",
    "            score = 5 - rank  # top-1: 5 puan, top-2:4 ... top-5:1\n",
    "            if c_idx not in chunk_scores:\n",
    "                chunk_scores[c_idx] = 0\n",
    "            chunk_scores[c_idx] += score\n",
    "\n",
    "    sorted_chunks = sorted(chunk_scores.items(), key=lambda x: x[1], reverse=True)\n",
    "    top_chunks = [x[0] for x in sorted_chunks[:5]]\n",
    "\n",
    "    if selected_correct_indices[i] in top_chunks[:1]:\n",
    "        top_1_correct += 1\n",
    "    if selected_correct_indices[i] in top_chunks:\n",
    "        top_5_correct += 1\n",
    "\n",
    "ensemble_top_1_acc = top_1_correct / len(selected_questions)\n",
    "ensemble_top_5_acc = top_5_correct / len(selected_questions)\n",
    "\n",
    "print(f\"Ensemble (Tüm 5 temsil) - Top-1 Accuracy: {ensemble_top_1_acc:.4f}, Top-5 Accuracy: {ensemble_top_5_acc:.4f}\")\n"
   ],
   "id": "9fb61f7f7abbe9a4",
   "outputs": [
    {
     "name": "stderr",
     "output_type": "stream",
     "text": [
      "[nltk_data] Downloading package punkt to\n",
      "[nltk_data]     C:\\Users\\emina\\AppData\\Roaming\\nltk_data...\n",
      "[nltk_data]   Package punkt is already up-to-date!\n"
     ]
    },
    {
     "name": "stdout",
     "output_type": "stream",
     "text": [
      "Seçilen 1000 soru ve 5000 chunk hazırlandı.\n"
     ]
    },
    {
     "name": "stderr",
     "output_type": "stream",
     "text": [
      "No sentence-transformers model found with name dbmdz/bert-base-turkish-cased. Creating a new one with mean pooling.\n"
     ]
    },
    {
     "name": "stdout",
     "output_type": "stream",
     "text": [
      "roberta için embedding hesaplanıyor...\n"
     ]
    },
    {
     "data": {
      "text/plain": [
       "Batches:   0%|          | 0/157 [00:00<?, ?it/s]"
      ],
      "application/vnd.jupyter.widget-view+json": {
       "version_major": 2,
       "version_minor": 0,
       "model_id": "49e63865533e4ac38372c5e440008ec7"
      }
     },
     "metadata": {},
     "output_type": "display_data"
    },
    {
     "data": {
      "text/plain": [
       "Batches:   0%|          | 0/32 [00:00<?, ?it/s]"
      ],
      "application/vnd.jupyter.widget-view+json": {
       "version_major": 2,
       "version_minor": 0,
       "model_id": "a672fbf2e5854ddaac53cebab3769724"
      }
     },
     "metadata": {},
     "output_type": "display_data"
    },
    {
     "name": "stdout",
     "output_type": "stream",
     "text": [
      "roberta için retrieval işlemi başlatıldı...\n",
      "jina için embedding hesaplanıyor...\n"
     ]
    },
    {
     "data": {
      "text/plain": [
       "Batches:   0%|          | 0/157 [00:00<?, ?it/s]"
      ],
      "application/vnd.jupyter.widget-view+json": {
       "version_major": 2,
       "version_minor": 0,
       "model_id": "239d7af57c034347841dfaabea025efe"
      }
     },
     "metadata": {},
     "output_type": "display_data"
    },
    {
     "data": {
      "text/plain": [
       "Batches:   0%|          | 0/32 [00:00<?, ?it/s]"
      ],
      "application/vnd.jupyter.widget-view+json": {
       "version_major": 2,
       "version_minor": 0,
       "model_id": "c7a0672329e24c0294f906edc2c0d09a"
      }
     },
     "metadata": {},
     "output_type": "display_data"
    },
    {
     "name": "stdout",
     "output_type": "stream",
     "text": [
      "jina için retrieval işlemi başlatıldı...\n",
      "turkish_bert için embedding hesaplanıyor...\n"
     ]
    },
    {
     "data": {
      "text/plain": [
       "Batches:   0%|          | 0/157 [00:00<?, ?it/s]"
      ],
      "application/vnd.jupyter.widget-view+json": {
       "version_major": 2,
       "version_minor": 0,
       "model_id": "28bd5143dbf646528d8c64231c8e0fba"
      }
     },
     "metadata": {},
     "output_type": "display_data"
    },
    {
     "data": {
      "text/plain": [
       "Batches:   0%|          | 0/32 [00:00<?, ?it/s]"
      ],
      "application/vnd.jupyter.widget-view+json": {
       "version_major": 2,
       "version_minor": 0,
       "model_id": "80bd777b2df74005804a034f1a855745"
      }
     },
     "metadata": {},
     "output_type": "display_data"
    },
    {
     "name": "stdout",
     "output_type": "stream",
     "text": [
      "turkish_bert için retrieval işlemi başlatıldı...\n",
      "Jaccard Similarity (word tokenization) için retrieval işlemi başlatılıyor...\n",
      "Jaccard Similarity (BERT tokenization) için retrieval işlemi başlatılıyor...\n"
     ]
    },
    {
     "name": "stderr",
     "output_type": "stream",
     "text": [
      "Token indices sequence length is longer than the specified maximum sequence length for this model (523 > 512). Running this sequence through the model will result in indexing errors\n"
     ]
    },
    {
     "name": "stdout",
     "output_type": "stream",
     "text": [
      "roberta - Top-1 Accuracy: 0.1930, Top-5 Accuracy: 0.3370\n",
      "jina - Top-1 Accuracy: 0.1430, Top-5 Accuracy: 0.2680\n",
      "turkish_bert - Top-1 Accuracy: 0.1510, Top-5 Accuracy: 0.2960\n",
      "jaccard_word - Top-1 Accuracy: 0.1180, Top-5 Accuracy: 0.2270\n",
      "jaccard_bert - Top-1 Accuracy: 0.1750, Top-5 Accuracy: 0.3520\n",
      "Ensemble (Tüm 5 temsil) - Top-1 Accuracy: 0.2380, Top-5 Accuracy: 0.4260\n"
     ]
    }
   ],
   "execution_count": 13
  },
  {
   "metadata": {
    "ExecuteTime": {
     "end_time": "2024-12-23T12:19:33.715568Z",
     "start_time": "2024-12-23T12:19:33.625069Z"
    }
   },
   "cell_type": "code",
   "source": [
    "import matplotlib.pyplot as plt\n",
    "\n",
    "# Top-1 ve Top-5 doğrulukları\n",
    "models = list(model_results.keys())\n",
    "top_1_accuracies = [model_results[model][\"top_1_accuracy\"] for model in models]\n",
    "top_5_accuracies = [model_results[model][\"top_5_accuracy\"] for model in models]\n",
    "\n",
    "# Çubuk grafik\n",
    "x = range(len(models))\n",
    "plt.bar(x, top_1_accuracies, width=0.4, label=\"Top-1 Accuracy\", align='center')\n",
    "plt.bar(x, top_5_accuracies, width=0.4, label=\"Top-5 Accuracy\", align='edge')\n",
    "plt.xticks(x, models, rotation=45)\n",
    "plt.ylabel(\"Accuracy\")\n",
    "plt.title(\"Top-1 and Top-5 Accuracy Comparison\")\n",
    "plt.legend()\n",
    "plt.show()\n"
   ],
   "id": "f69968e79cc99de",
   "outputs": [
    {
     "data": {
      "text/plain": [
       "<Figure size 640x480 with 1 Axes>"
      ],
      "image/png": "[encoded data removed]"
     },
     "metadata": {},
     "output_type": "display_data"
    }
   ],
   "execution_count": 14
  },
  {
   "metadata": {
    "ExecuteTime": {
     "end_time": "2024-12-23T12:19:33.886003Z",
     "start_time": "2024-12-23T12:19:33.716138Z"
    }
   },
   "cell_type": "code",
   "source": [
    "for model_name, results in model_results.items():\n",
    "    correct_ranks = []\n",
    "    for i, indices in enumerate(results[\"retrieved_indices\"]):\n",
    "        rank = np.where(indices == selected_correct_indices[i])[0]\n",
    "        correct_ranks.append(rank[0] + 1 if len(rank) > 0 else len(indices) + 1)\n",
    "    \n",
    "    plt.hist(correct_ranks, bins=range(1, 7), alpha=0.6, label=model_name)\n",
    "\n",
    "plt.xlabel(\"Correct Chunk Rank\")\n",
    "plt.ylabel(\"Frequency\")\n",
    "plt.title(\"Distribution of Correct Chunk Ranks\")\n",
    "plt.legend()\n",
    "plt.show()\n"
   ],
   "id": "ce211f2a07d4c7ae",
   "outputs": [
    {
     "data": {
      "text/plain": [
       "<Figure size 640x480 with 1 Axes>"
      ],
      "image/png": "[encoded data removed]"
     },
     "metadata": {},
     "output_type": "display_data"
    }
   ],
   "execution_count": 15
  },
  {
   "metadata": {},
   "cell_type": "markdown",
   "source": "# Dorduncu Besli",
   "id": "6f2a11c127eaa565"
  },
  {
   "metadata": {
    "ExecuteTime": {
     "end_time": "2024-12-23T12:42:51.608911Z",
     "start_time": "2024-12-23T12:19:33.980986Z"
    }
   },
   "cell_type": "code",
   "source": [
    "from datasets import load_dataset\n",
    "from sentence_transformers import SentenceTransformer\n",
    "import numpy as np\n",
    "import faiss\n",
    "from sklearn.decomposition import PCA\n",
    "from sklearn.feature_extraction.text import TfidfVectorizer\n",
    "from nltk.tokenize import word_tokenize\n",
    "import nltk\n",
    "from transformers import AutoTokenizer\n",
    "\n",
    "nltk.download('punkt')\n",
    "\n",
    "# Veri kümesini yükle\n",
    "dataset = load_dataset(\"Metin/WikiRAG-TR\")\n",
    "\n",
    "# Chunk ve soru ayrıştırma\n",
    "chunks = []\n",
    "correct_chunk_indices = []\n",
    "questions = []\n",
    "\n",
    "for i, example in enumerate(dataset['train']):\n",
    "    question_chunks = example['context'].split(\"\\n\")\n",
    "    correct_index = example['correct_intro_idx']\n",
    "\n",
    "    if len(question_chunks) == 5:\n",
    "        chunks.extend(question_chunks)\n",
    "        correct_chunk_indices.append(len(questions)*5 + correct_index)\n",
    "        questions.append(example['question'])\n",
    "    elif len(question_chunks) == 6:\n",
    "        if correct_index < 5:\n",
    "            selected_chunks = question_chunks[:5]\n",
    "        else:\n",
    "            selected_chunks = question_chunks[1:]\n",
    "        if question_chunks[correct_index] not in selected_chunks:\n",
    "            selected_chunks[-1] = question_chunks[correct_index]\n",
    "        chunks.extend(selected_chunks)\n",
    "        correct_chunk_indices.append(len(questions)*5 + selected_chunks.index(question_chunks[correct_index]))\n",
    "        questions.append(example['question'])\n",
    "\n",
    "selected_questions = questions[:1000]\n",
    "selected_chunks = chunks[:5000]\n",
    "selected_correct_indices = correct_chunk_indices[:1000]\n",
    "\n",
    "print(f\"Seçilen 1000 soru ve 5000 chunk hazırlandı.\")\n",
    "\n",
    "# Dense Representation Modelleri\n",
    "models = {\n",
    "    \"multilingual_e5\": SentenceTransformer('intfloat/multilingual-e5-base'),\n",
    "    \"bge_m3\": SentenceTransformer('BAAI/bge-m3'),\n",
    "    \"snowflake-l-v2.0\": SentenceTransformer('Snowflake/snowflake-arctic-embed-l-v2.0')\n",
    "}\n",
    "\n",
    "target_dim = 768  # Ortak boyut\n",
    "model_results = {}\n",
    "\n",
    "# --- Dense Modeller ---\n",
    "for model_name, model in models.items():\n",
    "    print(f\"{model_name} için embedding hesaplanıyor...\")\n",
    "    c_emb = model.encode(selected_chunks, convert_to_tensor=False, show_progress_bar=True)\n",
    "    q_emb = model.encode(selected_questions, convert_to_tensor=False, show_progress_bar=True)\n",
    "\n",
    "    # PCA uygulama\n",
    "    pca = PCA(n_components=target_dim)\n",
    "    c_emb = pca.fit_transform(c_emb)\n",
    "    q_emb = pca.transform(q_emb)\n",
    "\n",
    "    # FAISS index\n",
    "    d = c_emb.shape[1]\n",
    "    index = faiss.IndexFlatL2(d)\n",
    "    index.add(c_emb)\n",
    "\n",
    "    # Retrieval\n",
    "    print(f\"{model_name} için retrieval işlemi başlatıldı...\")\n",
    "    distances, retrieved_indices = index.search(np.array(q_emb), k=5)\n",
    "\n",
    "    # Performans Ölçümü\n",
    "    top_1_correct = 0\n",
    "    top_5_correct = 0\n",
    "    for i, indices in enumerate(retrieved_indices):\n",
    "        if selected_correct_indices[i] in indices[:1]:\n",
    "            top_1_correct += 1\n",
    "        if selected_correct_indices[i] in indices:\n",
    "            top_5_correct += 1\n",
    "\n",
    "    model_results[model_name] = {\n",
    "        \"retrieved_indices\": retrieved_indices,\n",
    "        \"top_1_accuracy\": top_1_correct / len(selected_questions),\n",
    "        \"top_5_accuracy\": top_5_correct / len(selected_questions)\n",
    "    }\n",
    "\n",
    "# --- TF-IDF (normal word tokenization) ---\n",
    "print(\"TF-IDF (word tokenization) için retrieval işlemi başlatılıyor...\")\n",
    "vectorizer = TfidfVectorizer()\n",
    "tfidf_matrix = vectorizer.fit_transform(selected_chunks)\n",
    "\n",
    "tfidf_all_indices = []\n",
    "top_1_correct = 0\n",
    "top_5_correct = 0\n",
    "for i, question in enumerate(selected_questions):\n",
    "    query_vector = vectorizer.transform([question])\n",
    "    scores = np.dot(tfidf_matrix, query_vector.T).toarray().flatten()\n",
    "    tfidf_indices = np.argsort(scores)[::-1][:5]\n",
    "    tfidf_all_indices.append(tfidf_indices)\n",
    "\n",
    "    if selected_correct_indices[i] in tfidf_indices[:1]:\n",
    "        top_1_correct += 1\n",
    "    if selected_correct_indices[i] in tfidf_indices:\n",
    "        top_5_correct += 1\n",
    "\n",
    "model_results[\"tfidf_word\"] = {\n",
    "    \"retrieved_indices\": np.array(tfidf_all_indices),\n",
    "    \"top_1_accuracy\": top_1_correct / len(selected_questions),\n",
    "    \"top_5_accuracy\": top_5_correct / len(selected_questions)\n",
    "}\n",
    "\n",
    "# --- TF-IDF (BERT tokenization) ---\n",
    "print(\"TF-IDF (BERT tokenization) için retrieval işlemi başlatılıyor...\")\n",
    "\n",
    "# BERT tokenizer ile tokenize et\n",
    "bert_tokenizer = AutoTokenizer.from_pretrained(\"dbmdz/bert-base-turkish-cased\")\n",
    "\n",
    "def bert_tokenize(text):\n",
    "    tokens = bert_tokenizer.tokenize(text.lower())\n",
    "    return \" \".join(tokens)\n",
    "\n",
    "tokenized_chunks_bert = [bert_tokenize(chunk) for chunk in selected_chunks]\n",
    "vectorizer_bert = TfidfVectorizer()\n",
    "tfidf_matrix_bert = vectorizer_bert.fit_transform(tokenized_chunks_bert)\n",
    "\n",
    "bert_tfidf_all_indices = []\n",
    "top_1_correct = 0\n",
    "top_5_correct = 0\n",
    "for i, question in enumerate(selected_questions):\n",
    "    tokenized_question_bert = bert_tokenize(question)\n",
    "    query_vector_bert = vectorizer_bert.transform([tokenized_question_bert])\n",
    "    scores = np.dot(tfidf_matrix_bert, query_vector_bert.T).toarray().flatten()\n",
    "    tfidf_indices = np.argsort(scores)[::-1][:5]\n",
    "    bert_tfidf_all_indices.append(tfidf_indices)\n",
    "\n",
    "    if selected_correct_indices[i] in tfidf_indices[:1]:\n",
    "        top_1_correct += 1\n",
    "    if selected_correct_indices[i] in tfidf_indices:\n",
    "        top_5_correct += 1\n",
    "\n",
    "model_results[\"tfidf_bert\"] = {\n",
    "    \"retrieved_indices\": np.array(bert_tfidf_all_indices),\n",
    "    \"top_1_accuracy\": top_1_correct / len(selected_questions),\n",
    "    \"top_5_accuracy\": top_5_correct / len(selected_questions)\n",
    "}\n",
    "\n",
    "# Tekil yöntem sonuçları\n",
    "for model_name, results in model_results.items():\n",
    "    print(f\"{model_name} - Top-1 Accuracy: {results['top_1_accuracy']:.4f}, Top-5 Accuracy: {results['top_5_accuracy']:.4f}\")\n",
    "\n",
    "# Ensemble (Tüm dense'ler + TF-IDF (word) + TF-IDF (bert))\n",
    "methods = list(model_results.keys())  # [\"multilingual_e5\", \"bge_m3\", \"snowflake-l-v2.0\",\"tfidf_word\", \"tfidf_bert\"]\n",
    "\n",
    "top_1_correct = 0\n",
    "top_5_correct = 0\n",
    "\n",
    "for i in range(len(selected_questions)):\n",
    "    chunk_scores = {}\n",
    "    for method in methods:\n",
    "        retrieved_indices = model_results[method][\"retrieved_indices\"][i]\n",
    "        for rank, c_idx in enumerate(retrieved_indices):\n",
    "            score = 5 - rank  # top-1: 5 puan, top-2:4 ... top-5:1\n",
    "            if c_idx not in chunk_scores:\n",
    "                chunk_scores[c_idx] = 0\n",
    "            chunk_scores[c_idx] += score\n",
    "\n",
    "    sorted_chunks = sorted(chunk_scores.items(), key=lambda x: x[1], reverse=True)\n",
    "    top_chunks = [x[0] for x in sorted_chunks[:5]]\n",
    "\n",
    "    if selected_correct_indices[i] in top_chunks[:1]:\n",
    "        top_1_correct += 1\n",
    "    if selected_correct_indices[i] in top_chunks:\n",
    "        top_5_correct += 1\n",
    "\n",
    "ensemble_top_1_acc = top_1_correct / len(selected_questions)\n",
    "ensemble_top_5_acc = top_5_correct / len(selected_questions)\n",
    "\n",
    "print(f\"Ensemble (Tüm 5 temsil) - Top-1 Accuracy: {ensemble_top_1_acc:.4f}, Top-5 Accuracy: {ensemble_top_5_acc:.4f}\")\n"
   ],
   "id": "3527c6cb89722e72",
   "outputs": [
    {
     "name": "stderr",
     "output_type": "stream",
     "text": [
      "[nltk_data] Downloading package punkt to\n",
      "[nltk_data]     C:\\Users\\emina\\AppData\\Roaming\\nltk_data...\n",
      "[nltk_data]   Package punkt is already up-to-date!\n"
     ]
    },
    {
     "name": "stdout",
     "output_type": "stream",
     "text": [
      "Seçilen 1000 soru ve 5000 chunk hazırlandı.\n",
      "multilingual_e5 için embedding hesaplanıyor...\n"
     ]
    },
    {
     "data": {
      "text/plain": [
       "Batches:   0%|          | 0/157 [00:00<?, ?it/s]"
      ],
      "application/vnd.jupyter.widget-view+json": {
       "version_major": 2,
       "version_minor": 0,
       "model_id": "0ee5a9881f3f46ac95a0b0916bb86c9e"
      }
     },
     "metadata": {},
     "output_type": "display_data"
    },
    {
     "data": {
      "text/plain": [
       "Batches:   0%|          | 0/32 [00:00<?, ?it/s]"
      ],
      "application/vnd.jupyter.widget-view+json": {
       "version_major": 2,
       "version_minor": 0,
       "model_id": "c892e33884ce4e9488dc810a3b766a8f"
      }
     },
     "metadata": {},
     "output_type": "display_data"
    },
    {
     "name": "stdout",
     "output_type": "stream",
     "text": [
      "multilingual_e5 için retrieval işlemi başlatıldı...\n",
      "bge_m3 için embedding hesaplanıyor...\n"
     ]
    },
    {
     "data": {
      "text/plain": [
       "Batches:   0%|          | 0/157 [00:00<?, ?it/s]"
      ],
      "application/vnd.jupyter.widget-view+json": {
       "version_major": 2,
       "version_minor": 0,
       "model_id": "a4c5134a703c46a2be189071d2c676a2"
      }
     },
     "metadata": {},
     "output_type": "display_data"
    },
    {
     "data": {
      "text/plain": [
       "Batches:   0%|          | 0/32 [00:00<?, ?it/s]"
      ],
      "application/vnd.jupyter.widget-view+json": {
       "version_major": 2,
       "version_minor": 0,
       "model_id": "49ff68c8cab24c0da2f8f9796a9ec244"
      }
     },
     "metadata": {},
     "output_type": "display_data"
    },
    {
     "name": "stdout",
     "output_type": "stream",
     "text": [
      "bge_m3 için retrieval işlemi başlatıldı...\n",
      "snowflake-l-v2.0 için embedding hesaplanıyor...\n"
     ]
    },
    {
     "data": {
      "text/plain": [
       "Batches:   0%|          | 0/157 [00:00<?, ?it/s]"
      ],
      "application/vnd.jupyter.widget-view+json": {
       "version_major": 2,
       "version_minor": 0,
       "model_id": "9b13a04f2b10444f915375251cf280cc"
      }
     },
     "metadata": {},
     "output_type": "display_data"
    },
    {
     "data": {
      "text/plain": [
       "Batches:   0%|          | 0/32 [00:00<?, ?it/s]"
      ],
      "application/vnd.jupyter.widget-view+json": {
       "version_major": 2,
       "version_minor": 0,
       "model_id": "4775d72cef174cc88b1da91c6441f8bc"
      }
     },
     "metadata": {},
     "output_type": "display_data"
    },
    {
     "name": "stdout",
     "output_type": "stream",
     "text": [
      "snowflake-l-v2.0 için retrieval işlemi başlatıldı...\n",
      "TF-IDF (word tokenization) için retrieval işlemi başlatılıyor...\n",
      "TF-IDF (BERT tokenization) için retrieval işlemi başlatılıyor...\n"
     ]
    },
    {
     "name": "stderr",
     "output_type": "stream",
     "text": [
      "Token indices sequence length is longer than the specified maximum sequence length for this model (523 > 512). Running this sequence through the model will result in indexing errors\n"
     ]
    },
    {
     "name": "stdout",
     "output_type": "stream",
     "text": [
      "multilingual_e5 - Top-1 Accuracy: 0.3310, Top-5 Accuracy: 0.5330\n",
      "bge_m3 - Top-1 Accuracy: 0.3130, Top-5 Accuracy: 0.5350\n",
      "snowflake-l-v2.0 - Top-1 Accuracy: 0.3090, Top-5 Accuracy: 0.5290\n",
      "tfidf_word - Top-1 Accuracy: 0.2860, Top-5 Accuracy: 0.4590\n",
      "tfidf_bert - Top-1 Accuracy: 0.2710, Top-5 Accuracy: 0.4740\n",
      "Ensemble (Tüm 5 temsil) - Top-1 Accuracy: 0.3220, Top-5 Accuracy: 0.5410\n"
     ]
    }
   ],
   "execution_count": 17
  },
  {
   "metadata": {
    "ExecuteTime": {
     "end_time": "2024-12-23T12:42:51.702912Z",
     "start_time": "2024-12-23T12:42:51.610459Z"
    }
   },
   "cell_type": "code",
   "source": [
    "import matplotlib.pyplot as plt\n",
    "\n",
    "# Top-1 ve Top-5 doğrulukları\n",
    "models = list(model_results.keys())\n",
    "top_1_accuracies = [model_results[model][\"top_1_accuracy\"] for model in models]\n",
    "top_5_accuracies = [model_results[model][\"top_5_accuracy\"] for model in models]\n",
    "\n",
    "# Çubuk grafik\n",
    "x = range(len(models))\n",
    "plt.bar(x, top_1_accuracies, width=0.4, label=\"Top-1 Accuracy\", align='center')\n",
    "plt.bar(x, top_5_accuracies, width=0.4, label=\"Top-5 Accuracy\", align='edge')\n",
    "plt.xticks(x, models, rotation=45)\n",
    "plt.ylabel(\"Accuracy\")\n",
    "plt.title(\"Top-1 and Top-5 Accuracy Comparison\")\n",
    "plt.legend()\n",
    "plt.show()\n"
   ],
   "id": "474b832e2c47c5d2",
   "outputs": [
    {
     "data": {
      "text/plain": [
       "<Figure size 640x480 with 1 Axes>"
      ],
      "image/png": "[encoded data removed]"
     },
     "metadata": {},
     "output_type": "display_data"
    }
   ],
   "execution_count": 18
  },
  {
   "metadata": {
    "ExecuteTime": {
     "end_time": "2024-12-23T12:42:51.826172Z",
     "start_time": "2024-12-23T12:42:51.703523Z"
    }
   },
   "cell_type": "code",
   "source": [
    "for model_name, results in model_results.items():\n",
    "    correct_ranks = []\n",
    "    for i, indices in enumerate(results[\"retrieved_indices\"]):\n",
    "        rank = np.where(indices == selected_correct_indices[i])[0]\n",
    "        correct_ranks.append(rank[0] + 1 if len(rank) > 0 else len(indices) + 1)\n",
    "    \n",
    "    plt.hist(correct_ranks, bins=range(1, 7), alpha=0.6, label=model_name)\n",
    "\n",
    "plt.xlabel(\"Correct Chunk Rank\")\n",
    "plt.ylabel(\"Frequency\")\n",
    "plt.title(\"Distribution of Correct Chunk Ranks\")\n",
    "plt.legend()\n",
    "plt.show()\n"
   ],
   "id": "5202da031bc09940",
   "outputs": [
    {
     "data": {
      "text/plain": [
       "<Figure size 640x480 with 1 Axes>"
      ],
      "image/png": "[encoded data removed]"
     },
     "metadata": {},
     "output_type": "display_data"
    }
   ],
   "execution_count": 19
  },
  {
   "metadata": {},
   "cell_type": "code",
   "outputs": [],
   "execution_count": null,
   "source": "",
   "id": "9cd7970b23224d8b"
  }
 ],
 "metadata": {
  "kernelspec": {
   "display_name": "Python 3",
   "language": "python",
   "name": "python3"
  },
  "language_info": {
   "codemirror_mode": {
    "name": "ipython",
    "version": 2
   },
   "file_extension": ".py",
   "mimetype": "text/x-python",
   "name": "python",
   "nbconvert_exporter": "python",
   "pygments_lexer": "ipython2",
   "version": "2.7.6"
  }
 },
 "nbformat": 4,
 "nbformat_minor": 5
}
